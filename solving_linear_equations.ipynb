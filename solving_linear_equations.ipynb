{
 "cells": [
  {
   "cell_type": "markdown",
   "metadata": {},
   "source": [
    "# Distribution\n",
    "\n",
    "Copyright (C) 2022 John Penuel.  Published under the terms of the GNU General Public License version 3 or later.  See https://www.gnu.org/licenses/."
   ]
  },
  {
   "cell_type": "markdown",
   "metadata": {},
   "source": [
    "# Solving A System of Linear Equations on the D-Wave QPU\n",
    "\n",
    "Many problems in optimization, differential equations and other subjects can be reduced to solving a system of linear equations.  Generically, we want to solve the following system of linear equations:\n",
    "\\begin{align}\n",
    "    Ax & = b\n",
    "\\end{align}\n",
    "\n",
    "* $A$ is an $m \\times n$ matrix of real numbers.\n",
    "* $a_{ij}$ is the component of $A$ in row $i$, column $j$\n",
    "* $a_i$ is the $i^\\text{th}$ row of matrix $A$.  For notation, we treat it as an $n \\times 1$ column vector.\n",
    "* $b$ is a $m \\times 1$ vector.\n",
    "* $x$ is an $n \\times 1$ vector that we wish to solve for.\n",
    "   - Since we are dealing with D-Wave specifically, $x$ is a binary vector in $\\{ 0, 1 \\}^n$.\n",
    "\n",
    "Because $x$ is a binary vector, this is considered 0-1 Integer Programming and is an NP-Complete problem as shown in original Karp-21 problems.  I.e., there is no known polynomial time algorithm to find a solution or prove that a solution does not exist.\n",
    "\n",
    "Consider one linear equation at a time:\n",
    "\n",
    "\\begin{align}\n",
    "    a^{\\top}_i x  & = b_i, & i = 0,...,m-1\n",
    "\\end{align}\n",
    "\n",
    "D-Wave computers can solve Quadratic Unconstrained Binary Optimization (QUBO) problems.  We attempt to solve the system of equations by minimizing some QUBO objective function.  For our function, we will *penalize* each equation by $\\lambda \\gt 0$ if the equation is not satisfied.  \n",
    "\n",
    "Given a solution to the equation $\\bar{x}$, then $(a^{\\top}_i\\bar{x} - b_i) = 0$.  If $\\bar{x}$ is also solution to *all* of the equations, then $(a^{\\top}_i\\bar{x} - b_i) = 0$ for all $i = 0, ..., m-1$.  Similarly, the *squared* quantity $(a^{\\top}_i x - b_i)^2$ is zero when the equation is satisfied and positive otherwise.  The squared quantity is never negative.  So we craft our quadratic objective function as:\n",
    "\\begin{align}\n",
    "    f(x) & = \\sum_i \\lambda_i (a^{\\top}_i x - b)^2\n",
    "\\end{align}\n",
    "Note that there are no constraints on $x$ other than it's a binary vector.  Therefore we have a QUBO.  If we can find a solution $\\bar{x} \\in \\{ 0, 1 \\}^n$ that satisfies $A\\bar{x}=b$, then $f(\\bar{x}) = 0$, and $f(x)$ is minimized.\n",
    "\n",
    "\n",
    "We need to do a bit more algebra to make this fit cleanly into the D-Wave API.  Specifically we want to rearrange terms so that we have a objective function of the form\n",
    "\\begin{align}\n",
    "    f(x) & = x^{\\top}Qx + L^{\\top}x\n",
    "\\end{align}\n",
    "where $Q$ is an $n \\times n$ matrix of coefficients for the quadratic terms and $L$ is an $n \\times 1$ vector of coefficients for the linear terms.\n",
    "\n",
    "\n",
    "\\begin{align}\n",
    "    f(x) & = \\sum_i \\lambda_i (a^{\\top}_i x - b)^2\\\\\n",
    "         & = \\sum_i \\lambda_i \\left( (a^{\\top}_i x)^2 - 2(a^{\\top}_ix)b_i + b_i^2 \\right) \\\\\n",
    "         & = \\sum_i \\lambda_i \\left( (a^{\\top}_i x)(a^{\\top}_i x) - 2(a^{\\top}_ix)b_i + b_i^2 \\right) \\\\\n",
    "         & = \\sum_i \\lambda_i \\left( (x^{\\top}a_i)(a^{\\top}_i x) + (-2b_ia^{\\top}_i)x + b_i^2 \\right) \\\\\n",
    "         & = \\sum_i \\lambda_i \\left( x^{\\top}(a_ia^{\\top}_i)x + (-2b_ia^{\\top}_i)x + b_i^2 \\right) \\\\\n",
    "         & = x^{\\top} \\left( \\sum_i \\lambda_i (a_ia^{\\top}_i) \\right) x + \\left( -2 \\sum_i \\lambda_i b_i a^{\\top}_i \\right) x + \\left( \\sum_i \\lambda_i b_i^2 \\right)& \\text{ rearrange}\\\\\n",
    "         & = \\sum_i \\lambda_i \\left( x^{\\top}(a_ia^{\\top}_i)x + (-2b_ia^{\\top}_i)x \\right) & \\text{remove constant term}\\\\\n",
    "\n",
    "         & = x^{\\top}Qx + L^{\\top}x\n",
    "\\end{align}\n",
    "Note that $a_ia^{\\top}_i$ is a symmetric $n \\times n$ matrix.  So $Q = \\left( \\sum_i \\lambda_i (a_ia^{\\top}_i) \\right)$ and $L = \\left( -2 \\sum_i \\lambda_i b_i a^{\\top}_i \\right)$.  We removed the constant term $\\left( \\sum_i \\lambda_i b_i^2 \\right)$ since it will not have an impact on the optimization.  However, now our objective function $f(x)$ may be negative.  There will still be some $\\bar{x}$ that *minimizes* $f(x)$ and we will find it.  Before we removed the constant term the minimum of $f(x)$ was zero.  After we removed the constant term the minimum of $f(x)$ will be $-\\sum_i \\lambda_i b_i^2 $.  The same $\\bar{x}$ where $f(\\bar{x}) = -\\sum_i \\lambda_i b_i^2 $ will be the solution to the original set of equations.\n",
    "\n",
    "\n",
    "We can take the concept further and consolidate $Q$ and $L$.  Since $x_i \\in \\{ 0, 1\\}$, then $x_i^2 = x_i$.  So we can rewrite the $L$-term as:\n",
    "\\begin{align}\n",
    "    L^{\\top}x   & = L^{\\top}x \\\\\n",
    "                & = \\text{diag}(L)x \\\\\n",
    "                & = x^{\\top}\\text{diag}(L)x \\\\\n",
    "\\end{align}\n",
    "Where $\\text{diag}(L)$ is the projection of the $(n \\times 1)$ vector $L$ into the diagonal elements of an $(n\\times n)$ matrix with zeros on the off-diagonal elements.  This is also a quadratic term,  So we can rearrange and consolidate:\n",
    "\\begin{align}\n",
    "    f(x)  & = x^{\\top}Qx + x^{\\top}Lx\\\\\n",
    "          & = x^{\\top}(Q + L)x\\\\\n",
    "          & = x^{\\top}Q'x   & \\text{define } Q' = Q + L\\\\\n",
    "\\end{align}\n",
    "\n",
    "\n",
    "The D-Wave system will translate a matrix $Q'$ as follows. The diagonal elements will be qubit biases and the off-diagonal elements will be qubit coupling strength.  Our $Q'$ matrix we have constructed is symmetric.  Element $a_{ij}$ is equal to element $a_{ji}$.  So the qubit coupling strength between qubit $i$ and qubit $j$ is $a_{ij}$... or is it $a_{ji}$?  Qubit coupling is not directional, so it doesn't make sense to have a separate $a_{ij}$ and $a_{ji}$, even if they are equal.  D-Wave's documentation implies that the input matrix should be upper triangular, not symmetric.  It's not clear what behavior may result if we feed D-Wave system an input that has nonzero in the lower left elements.  So we will convert our symmetric $Q'$ matrix to an upper triangular matrix as follows.  The result is equivalent because multiplication commutes.\n",
    "\n",
    "\\begin{align}\n",
    "    f(x)  & = x^{\\top}Q'x\\\\\n",
    "          & = \\sum_{i} a_{ii} x_{i}^2 + \\sum_{i,j : i \\lt j} a_{ij}x_i x_j + \\sum_{j,i : j \\gt i} a_{ji}x_j x_i\\\\\n",
    "          & = \\sum_{i} a_{ii} x_{i}^2 + \\sum_{i,j : i \\lt j} 2 a_{ij}x_i x_j  & \\text{ because } a_{ij} = a_{ji}\\\\\n",
    "          & = \\sum_{i} a_{ii} x_{i}^2 + \\sum_{i,j : i \\lt j} 2 a_{ij}x_i x_j  + \\sum_{j,i : j \\gt i} 0 a_{ji} x_j x_i & \\text{ reintroduced 0-term for clarity } \\\\\n",
    "          & = x^{\\top} \\begin{bmatrix} \n",
    "                \\left[ a_{ii} \\right]              &         &  \\left[ 2a_{ij} \\right]_{i \\lt j} \\\\\n",
    "                                                   &  \\ddots &                                   \\\\\n",
    "                \\left[ 0 a_{ji} \\right]_{j \\gt i}  &         & \\left[ a_{ii} \\right]   \\end{bmatrix} x \\\\\n",
    "          & = x^{\\top}Q''x & \\text{ define Q''}\\\\\n",
    "\\end{align}\n",
    "\n",
    "So we can convert our symmetric $Q'$ matrix into an upper triangular matrix $Q''$ as shown above.  We will construct and use $Q''$ for the following calculations.  In the code below, we let our notation slip and simply call it $Q$."
   ]
  },
  {
   "cell_type": "markdown",
   "metadata": {},
   "source": [
    "# An example\n",
    "\n",
    "\n",
    "Consider the following system of $m=2$ linear equations and $n=6$ binary variables:\n",
    "\\begin{align}\n",
    "    5x_0 + 6x_1 + 2x_2 + 1x_3 + 3x_4 + 4x_5 &= 10  & \\text{  equation 0}\\\\\n",
    "    2x_0 + 3x_1 + 2x_2 + 4x_3 + 3x_4 + 6x_5 &=  7  & \\text{  equation 1}\n",
    "\\end{align}\n",
    "By inspection or enumeration, we can show that each equation has multiple solutions, but there is only one solution $\\bar{x} = (1,0,1,0,1,0)$ that satisfied *both* equations.\n",
    "\n",
    "\n",
    "We use the penalty terms $\\lambda_0, \\lambda_1$ for each respective equation. "
   ]
  },
  {
   "cell_type": "code",
   "execution_count": 1,
   "metadata": {},
   "outputs": [
    {
     "data": {
      "image/png": "[encoded data removed]",
      "text/plain": [
       "<Figure size 640x480 with 1 Axes>"
      ]
     },
     "metadata": {},
     "output_type": "display_data"
    },
    {
     "name": "stdout",
     "output_type": "stream",
     "text": [
      "\n",
      "\n",
      "Constant:  14900.0\n",
      "The solution will have minimum 'energy' of  -14900.0\n"
     ]
    }
   ],
   "source": [
    "# Formulate Problem\n",
    "\n",
    "import pprint\n",
    "import numpy as np\n",
    "import matplotlib.pyplot as plt\n",
    "\n",
    "\n",
    "m = 2\n",
    "n = 6\n",
    "\n",
    "A = np.array([[5,6,2,1,3,4],\n",
    "    [2,3,2,4,3,6]])\n",
    "\n",
    "b = [10, 7]\n",
    "\n",
    "lambda_penalty = [1e2, 1e2]\n",
    "\n",
    "# build interim Q-matrix\n",
    "Q_matrix = np.zeros((n,n))\n",
    "a_i = np.zeros((n,1))\n",
    "for i in range(m):\n",
    "    a_i = np.array([A[i,:]]).T\n",
    "    Q_matrix = Q_matrix + lambda_penalty[i]*np.matmul(a_i,a_i.T)\n",
    "\n",
    "# build interim L-matrix\n",
    "L_matrix = np.zeros((n,n))\n",
    "L_temp = np.zeros((n,n))\n",
    "for i in range(m):\n",
    "    a_i = np.array([A[i,:]]).T\n",
    "    for j in range(n):\n",
    "        L_temp[j][j] = b[i]*a_i[j]\n",
    "    L_matrix = L_matrix + (-2.0)*lambda_penalty[i]*L_temp\n",
    "\n",
    "\n",
    "# still interim... symmetric but not upper triangular yet.\n",
    "Q_matrix = Q_matrix + L_matrix\n",
    "\n",
    "\n",
    "# D-Wave input is a dictionary, not a numpy array.\n",
    "Q = {}\n",
    "\n",
    "# diagonal elements\n",
    "for i in range(n):\n",
    "    Q[(i,i)] = Q_matrix[i][i]\n",
    "\n",
    "# off-diagonal elements\n",
    "# This constructs the upper-triangular matrix (dictionary) as shown above.\n",
    "for i in range(n):\n",
    "    for j in range(i+1,n):\n",
    "        Q[(i,j)] = 2*Q_matrix[i][j]\n",
    "        Q_matrix[i][j] = 2*Q_matrix[i][j]\n",
    "        Q_matrix[j][i] = 0\n",
    "\n",
    "plt.imshow(Q_matrix)\n",
    "plt.title(\"Upper Triangular Matrix $Q$\")\n",
    "plt.show()\n",
    "\n",
    "# pprint.pprint(Q)\n",
    "\n",
    "constant = 0\n",
    "for i in range(m):\n",
    "    constant += lambda_penalty[i]*b[i]**2\n",
    "\n",
    "print(\"\\n\\nConstant: \",constant)\n",
    "print(\"The solution will have minimum 'energy' of \",-constant)\n",
    "\n",
    "\n",
    "\n",
    "# the solution is known for our trivial example.\n",
    "# x_soln = [1,0,1,0,1,0]\n",
    "# fx_soln = np.matmul(x_soln,np.matmul(Q_matrix,x_soln))\n",
    "# print(fx_soln)\n",
    "\n"
   ]
  },
  {
   "cell_type": "code",
   "execution_count": 2,
   "metadata": {},
   "outputs": [
    {
     "name": "stdout",
     "output_type": "stream",
     "text": [
      "Advantage_system6.1\n"
     ]
    }
   ],
   "source": [
    "from dwave.system.samplers import DWaveSampler\n",
    "\n",
    "# Create the DWaveSampler object.  \n",
    "# Note that the \"~/dwave_config\" file contains the developer's API token\n",
    "sampler = DWaveSampler(config_file=\"~/dwave_config\",\n",
    "                        solver=\"Advantage_system6.1\")\n",
    "\n",
    "print(sampler.solver.id)"
   ]
  },
  {
   "cell_type": "code",
   "execution_count": 3,
   "metadata": {},
   "outputs": [
    {
     "name": "stdout",
     "output_type": "stream",
     "text": [
      "Advantage_system6.1\n"
     ]
    }
   ],
   "source": [
    "from dwave.system.composites import EmbeddingComposite\n",
    "\n",
    "# Create the Embedding Composite object from our Sampler.\n",
    "# This will heuristically map our original i,j indexes to \n",
    "# actual qubit indexes or chains of logical qubit so \n",
    "# we don't have to do that mapping (or reverse mapping) manually.\n",
    "# It should calculate a new embedding every time we sample the problem.\n",
    "\n",
    "sampler = EmbeddingComposite(sampler)\n",
    "\n",
    "print(sampler.child.solver.id)"
   ]
  },
  {
   "cell_type": "code",
   "execution_count": 4,
   "metadata": {},
   "outputs": [],
   "source": [
    "# Task the QPU and get results\n",
    "\n",
    "chain_strength = 1e6\n",
    "num_reads = 50\n",
    "\n",
    "response = sampler.sample_qubo(Q,\n",
    "                    chain_strength=chain_strength,\n",
    "                    num_reads=num_reads,\n",
    "                    label=\"solving_linear_equations\")"
   ]
  },
  {
   "cell_type": "code",
   "execution_count": 5,
   "metadata": {},
   "outputs": [
    {
     "name": "stdout",
     "output_type": "stream",
     "text": [
      "SampleSet(rec.array([([1, 0, 1, 0, 1, 0], -14900., 2, 0.),\n",
      "           ([0, 1, 1, 0, 1, 0], -14700., 2, 0.),\n",
      "           ([1, 0, 0, 0, 0, 1], -14700., 1, 0.),\n",
      "           ([0, 1, 0, 0, 1, 0], -14700., 1, 0.),\n",
      "           ([0, 1, 0, 0, 0, 1], -14500., 1, 0.),\n",
      "           ([1, 0, 1, 1, 0, 0], -14400., 1, 0.),\n",
      "           ([0, 1, 1, 1, 0, 0], -14400., 1, 0.),\n",
      "           ([1, 1, 0, 0, 0, 0], -14400., 1, 0.),\n",
      "           ([0, 1, 1, 0, 0, 0], -14100., 1, 0.),\n",
      "           ([1, 0, 0, 0, 1, 0], -14100., 1, 0.),\n",
      "           ([1, 1, 1, 0, 0, 0], -14000., 2, 0.),\n",
      "           ([1, 1, 0, 0, 1, 0], -13200., 2, 0.),\n",
      "           ([0, 0, 1, 1, 1, 0], -12900., 2, 0.),\n",
      "           ([1, 0, 0, 0, 1, 1], -12900., 2, 0.),\n",
      "           ([0, 1, 1, 0, 0, 1], -12900., 1, 0.),\n",
      "           ([0, 0, 1, 0, 1, 0], -12000., 3, 0.),\n",
      "           ([0, 1, 0, 0, 0, 0], -11700., 2, 0.),\n",
      "           ([0, 0, 0, 1, 0, 1], -11500., 1, 0.),\n",
      "           ([0, 0, 1, 1, 0, 1], -11500., 1, 0.),\n",
      "           ([0, 0, 0, 0, 0, 1], -11200., 1, 0.),\n",
      "           ([0, 0, 0, 1, 1, 1], -10900., 1, 0.),\n",
      "           ([1, 1, 0, 0, 0, 1], -10800., 3, 0.),\n",
      "           ([1, 1, 1, 0, 1, 0], -10400., 3, 0.),\n",
      "           ([0, 0, 1, 1, 0, 0],  -9900., 3, 0.),\n",
      "           ([1, 0, 0, 0, 0, 0],  -9900., 1, 0.),\n",
      "           ([1, 0, 1, 1, 0, 1],  -9600., 2, 0.),\n",
      "           ([0, 1, 1, 1, 0, 1],  -7600., 1, 0.),\n",
      "           ([0, 0, 1, 0, 0, 0],  -6000., 3, 0.),\n",
      "           ([1, 1, 1, 1, 1, 0],  -5100., 1, 0.),\n",
      "           ([1, 1, 1, 1, 0, 1],   1500., 1, 0.),\n",
      "           ([1, 1, 1, 0, 1, 1],   3200., 2, 0.)],\n",
      "          dtype=[('sample', 'i1', (6,)), ('energy', '<f8'), ('num_occurrences', '<i8'), ('chain_break_fraction', '<f8')]), Variables([0, 1, 2, 3, 4, 5]), {'timing': {'qpu_sampling_time': 3931.0, 'qpu_anneal_time_per_sample': 20.0, 'qpu_readout_time_per_sample': 38.08, 'qpu_access_time': 19163.76, 'qpu_access_overhead_time': 7693.24, 'qpu_programming_time': 15232.76, 'qpu_delay_time_per_sample': 20.54, 'post_processing_overhead_time': 1702.0, 'total_post_processing_time': 1702.0}, 'problem_id': '1072bad4-c02a-4e0a-97e1-a2395db10757', 'problem_label': 'solving_linear_equations'}, 'BINARY')\n"
     ]
    }
   ],
   "source": [
    "# Interpret Results\n",
    "\n",
    "pprint.pprint(response)"
   ]
  },
  {
   "cell_type": "markdown",
   "metadata": {},
   "source": [
    "# Conclusions and Future Work\n",
    "\n",
    "We find the minimum 'energy' solution of $\\bar{x} = (1,0,1,0,1,0)$ with the predicted energy.  This also solves our system of linear equations.\n",
    "\n",
    "Quantum Annealing is a heuristic and is not guaranteed to provide an optimal solution.  In this case it worked, but it also settled on other solutions with higher energy.  A statistically significant number of 'runs' need to be executed to increase the probability that the minimum energy solution is found.  As with all heuristics, the performance depends on the problem instance data, size and other structure.\n",
    "\n",
    "Future would shall include the following:\n",
    "\n",
    "* Determine what restrictions (if any) on the properties of the matrix $Q$ are required to effectively run the instance on the D-Wave QPU.  \n",
    "* Our system of linear equations may translate into a $Q$ matrix that is not sparse.  This translates to additional qubit connectivity requirements.  The actual hardware doesn't have the ability to connect arbitrary qubits together.  This implies that the embedding function needs to create a lot of artificial qubits by chaining others together with an appropriate chain strength.  Therefore, we need to characterize how this method will scale for the D-Wave topology.\n"
   ]
  }
 ],
 "metadata": {
  "kernelspec": {
   "display_name": "Python 3.10.6 64-bit",
   "language": "python",
   "name": "python3"
  },
  "language_info": {
   "codemirror_mode": {
    "name": "ipython",
    "version": 3
   },
   "file_extension": ".py",
   "mimetype": "text/x-python",
   "name": "python",
   "nbconvert_exporter": "python",
   "pygments_lexer": "ipython3",
   "version": "3.10.6"
  },
  "vscode": {
   "interpreter": {
    "hash": "916dbcbb3f70747c44a77c7bcd40155683ae19c65e1c03b4aa3499c5328201f1"
   }
  }
 },
 "nbformat": 4,
 "nbformat_minor": 2
}
